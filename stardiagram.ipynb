{
 "cells": [
  {
   "cell_type": "code",
   "execution_count": 1,
   "id": "0254c666-4966-4b3b-9c20-d84c708b8756",
   "metadata": {},
   "outputs": [],
   "source": [
    "import numpy as np\n",
    "import matplotlib.pyplot as plt\n",
    "import pandas as pd\n",
    "%matplotlib inline"
   ]
  },
  {
   "cell_type": "code",
   "execution_count": null,
   "id": "8f51eded-5fc0-4755-a661-9779948adfc6",
   "metadata": {},
   "outputs": [],
   "source": [
    "class Star:\n",
    "    def __init__(self, Nbins, markersize):\n",
    "        self.Nbins = Nbins\n",
    "        self.markersize = markersize\n",
    "    @property\n",
    "    def read(self):\n",
    "        #statements per lettura file\n",
    "    @property\n",
    "    def cut(self, df):\n",
    "        #statements per raggruppamento per range di età\n",
    "    @property\n",
    "    def colormap(self, df, bins):\n",
    "        #statements per creare la colormap\n",
    "    def plot(self, df, bins, cmap):\n",
    "        #statements per plottare il grafico"
   ]
  }
 ],
 "metadata": {
  "kernelspec": {
   "display_name": "Python 3 (ipykernel)",
   "language": "python",
   "name": "python3"
  },
  "language_info": {
   "codemirror_mode": {
    "name": "ipython",
    "version": 3
   },
   "file_extension": ".py",
   "mimetype": "text/x-python",
   "name": "python",
   "nbconvert_exporter": "python",
   "pygments_lexer": "ipython3",
   "version": "3.12.7"
  }
 },
 "nbformat": 4,
 "nbformat_minor": 5
}
